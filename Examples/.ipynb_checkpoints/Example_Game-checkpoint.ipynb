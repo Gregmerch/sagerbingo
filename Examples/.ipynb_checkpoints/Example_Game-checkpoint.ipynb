{
 "cells": [
  {
   "cell_type": "markdown",
   "metadata": {},
   "source": [
    "# Sager Bingo! "
   ]
  },
  {
   "cell_type": "code",
   "execution_count": 17,
   "metadata": {
    "collapsed": true
   },
   "outputs": [
    {
     "data": {
      "text/html": [
       "\n",
       "                <audio controls=\"controls\" autoplay=\"autoplay\">\n",
       "                    <source src=\"../sagerbingo/files/ld_sd_compiled.mp3\" type=\"audio/mpeg\" />\n",
       "                    Your browser does not support the audio element.\n",
       "                </audio>\n",
       "              "
      ],
      "text/plain": [
       "<IPython.lib.display.Audio object>"
      ]
     },
     "execution_count": 17,
     "metadata": {},
     "output_type": "execute_result"
    }
   ],
   "source": [
    "import sagerbingo\n",
    "import IPython.display\n",
    "IPython.display.Audio(url='../sagerbingo/'+sagerbingo.sf,autoplay=True)"
   ]
  },
  {
   "cell_type": "markdown",
   "metadata": {},
   "source": [
    "# Get Data\n",
    "Here we read in an example of bingo lines (you can feed the board object any of list of phrases."
   ]
  },
  {
   "cell_type": "code",
   "execution_count": 2,
   "metadata": {
    "collapsed": true
   },
   "outputs": [],
   "source": [
    "with open('bingo.csv') as f:\n",
    "    bingo_squares = f.read().splitlines()"
   ]
  },
  {
   "cell_type": "markdown",
   "metadata": {},
   "source": [
    "And we instantiate a board. Note at this point we can either access the board (it has been shuffled once) or shuffle a few more times for good measure. I'll show how to do both"
   ]
  },
  {
   "cell_type": "code",
   "execution_count": 39,
   "metadata": {
    "collapsed": true
   },
   "outputs": [
    {
     "data": {
      "text/html": [
       "\n",
       "                <audio controls=\"controls\" autoplay=\"autoplay\">\n",
       "                    <source src=\"../sagerbingo/files/ld_sd_shuffled2.mp3\" type=\"audio/mpeg\" />\n",
       "                    Your browser does not support the audio element.\n",
       "                </audio>\n",
       "              "
      ],
      "text/plain": [
       "<IPython.lib.display.Audio object>"
      ]
     },
     "execution_count": 39,
     "metadata": {},
     "output_type": "execute_result"
    }
   ],
   "source": [
    "game1 = sagerbingo.Board(bingo_squares)\n",
    "IPython.display.Audio(url='../sagerbingo/'+sagerbingo.sf3,autoplay=True)"
   ]
  },
  {
   "cell_type": "markdown",
   "metadata": {},
   "source": [
    "Here we are accessing the baord once:"
   ]
  },
  {
   "cell_type": "code",
   "execution_count": 41,
   "metadata": {
    "collapsed": false
   },
   "outputs": [
    {
     "data": {
      "text/html": [
       "<div>\n",
       "<table border=\"1\" class=\"dataframe\">\n",
       "  <thead>\n",
       "    <tr style=\"text-align: right;\">\n",
       "      <th></th>\n",
       "      <th>S</th>\n",
       "      <th>A</th>\n",
       "      <th>G</th>\n",
       "      <th>E</th>\n",
       "      <th>R</th>\n",
       "    </tr>\n",
       "  </thead>\n",
       "  <tbody>\n",
       "    <tr>\n",
       "      <th>0</th>\n",
       "      <td>Engages with Daniel</td>\n",
       "      <td>Fac-tor</td>\n",
       "      <td>*Uses Pointer*</td>\n",
       "      <td>Drinks Water</td>\n",
       "      <td>*Runs around class*</td>\n",
       "    </tr>\n",
       "    <tr>\n",
       "      <th>1</th>\n",
       "      <td>You send someone else the quiz code</td>\n",
       "      <td>*Jumps*</td>\n",
       "      <td>Suraj Asks a Question</td>\n",
       "      <td>Good Afternoon Business Analysts</td>\n",
       "      <td>Awkward Silence</td>\n",
       "    </tr>\n",
       "    <tr>\n",
       "      <th>2</th>\n",
       "      <td>Alec asks a question</td>\n",
       "      <td>Takes forever to interpret SAS</td>\n",
       "      <td>*Changes Pitch*</td>\n",
       "      <td>Catch someone watching a sports event</td>\n",
       "      <td>\"3 people have gone to the \"\"bathroom\"\"\"</td>\n",
       "    </tr>\n",
       "    <tr>\n",
       "      <th>3</th>\n",
       "      <td>Non-numeric Quiz code</td>\n",
       "      <td>Asks if the quiz has closed</td>\n",
       "      <td>Fac-tor</td>\n",
       "      <td>Julian asks a question and Kat pretends to pay...</td>\n",
       "      <td>Pay attention for 10+ min straight</td>\n",
       "    </tr>\n",
       "    <tr>\n",
       "      <th>4</th>\n",
       "      <td>*Running Man*</td>\n",
       "      <td>*Moves the board up*</td>\n",
       "      <td>*Takes off Jacket during class*</td>\n",
       "      <td>Pay attention for 5+ min straight</td>\n",
       "      <td>Er-rors</td>\n",
       "    </tr>\n",
       "  </tbody>\n",
       "</table>\n",
       "</div>"
      ],
      "text/plain": [
       "                                     S                               A  \\\n",
       "0                  Engages with Daniel                         Fac-tor   \n",
       "1  You send someone else the quiz code                         *Jumps*   \n",
       "2                 Alec asks a question  Takes forever to interpret SAS   \n",
       "3                Non-numeric Quiz code     Asks if the quiz has closed   \n",
       "4                        *Running Man*            *Moves the board up*   \n",
       "\n",
       "                                 G  \\\n",
       "0                   *Uses Pointer*   \n",
       "1            Suraj Asks a Question   \n",
       "2                  *Changes Pitch*   \n",
       "3                          Fac-tor   \n",
       "4  *Takes off Jacket during class*   \n",
       "\n",
       "                                                   E  \\\n",
       "0                                       Drinks Water   \n",
       "1                   Good Afternoon Business Analysts   \n",
       "2              Catch someone watching a sports event   \n",
       "3  Julian asks a question and Kat pretends to pay...   \n",
       "4                  Pay attention for 5+ min straight   \n",
       "\n",
       "                                          R  \n",
       "0                       *Runs around class*  \n",
       "1                           Awkward Silence  \n",
       "2  \"3 people have gone to the \"\"bathroom\"\"\"  \n",
       "3        Pay attention for 10+ min straight  \n",
       "4                                   Er-rors  "
      ]
     },
     "execution_count": 41,
     "metadata": {},
     "output_type": "execute_result"
    }
   ],
   "source": [
    "game1.board"
   ]
  },
  {
   "cell_type": "markdown",
   "metadata": {},
   "source": [
    "And now we shuffle it again (repeat this cell as many times as you like."
   ]
  },
  {
   "cell_type": "code",
   "execution_count": 40,
   "metadata": {
    "collapsed": false
   },
   "outputs": [
    {
     "data": {
      "text/html": [
       "<div>\n",
       "<table border=\"1\" class=\"dataframe\">\n",
       "  <thead>\n",
       "    <tr style=\"text-align: right;\">\n",
       "      <th></th>\n",
       "      <th>S</th>\n",
       "      <th>A</th>\n",
       "      <th>G</th>\n",
       "      <th>E</th>\n",
       "      <th>R</th>\n",
       "    </tr>\n",
       "  </thead>\n",
       "  <tbody>\n",
       "    <tr>\n",
       "      <th>0</th>\n",
       "      <td>Engages with Daniel</td>\n",
       "      <td>Fac-tor</td>\n",
       "      <td>*Uses Pointer*</td>\n",
       "      <td>Drinks Water</td>\n",
       "      <td>*Runs around class*</td>\n",
       "    </tr>\n",
       "    <tr>\n",
       "      <th>1</th>\n",
       "      <td>You send someone else the quiz code</td>\n",
       "      <td>*Jumps*</td>\n",
       "      <td>Suraj Asks a Question</td>\n",
       "      <td>Good Afternoon Business Analysts</td>\n",
       "      <td>Awkward Silence</td>\n",
       "    </tr>\n",
       "    <tr>\n",
       "      <th>2</th>\n",
       "      <td>Alec asks a question</td>\n",
       "      <td>Takes forever to interpret SAS</td>\n",
       "      <td>*Changes Pitch*</td>\n",
       "      <td>Catch someone watching a sports event</td>\n",
       "      <td>\"3 people have gone to the \"\"bathroom\"\"\"</td>\n",
       "    </tr>\n",
       "    <tr>\n",
       "      <th>3</th>\n",
       "      <td>Non-numeric Quiz code</td>\n",
       "      <td>Asks if the quiz has closed</td>\n",
       "      <td>Fac-tor</td>\n",
       "      <td>Julian asks a question and Kat pretends to pay...</td>\n",
       "      <td>Pay attention for 10+ min straight</td>\n",
       "    </tr>\n",
       "    <tr>\n",
       "      <th>4</th>\n",
       "      <td>*Running Man*</td>\n",
       "      <td>*Moves the board up*</td>\n",
       "      <td>*Takes off Jacket during class*</td>\n",
       "      <td>Pay attention for 5+ min straight</td>\n",
       "      <td>Er-rors</td>\n",
       "    </tr>\n",
       "  </tbody>\n",
       "</table>\n",
       "</div>"
      ],
      "text/plain": [
       "                                     S                               A  \\\n",
       "0                  Engages with Daniel                         Fac-tor   \n",
       "1  You send someone else the quiz code                         *Jumps*   \n",
       "2                 Alec asks a question  Takes forever to interpret SAS   \n",
       "3                Non-numeric Quiz code     Asks if the quiz has closed   \n",
       "4                        *Running Man*            *Moves the board up*   \n",
       "\n",
       "                                 G  \\\n",
       "0                   *Uses Pointer*   \n",
       "1            Suraj Asks a Question   \n",
       "2                  *Changes Pitch*   \n",
       "3                          Fac-tor   \n",
       "4  *Takes off Jacket during class*   \n",
       "\n",
       "                                                   E  \\\n",
       "0                                       Drinks Water   \n",
       "1                   Good Afternoon Business Analysts   \n",
       "2              Catch someone watching a sports event   \n",
       "3  Julian asks a question and Kat pretends to pay...   \n",
       "4                  Pay attention for 5+ min straight   \n",
       "\n",
       "                                          R  \n",
       "0                       *Runs around class*  \n",
       "1                           Awkward Silence  \n",
       "2  \"3 people have gone to the \"\"bathroom\"\"\"  \n",
       "3        Pay attention for 10+ min straight  \n",
       "4                                   Er-rors  "
      ]
     },
     "execution_count": 40,
     "metadata": {},
     "output_type": "execute_result"
    }
   ],
   "source": [
    "game1.shuffle()"
   ]
  },
  {
   "cell_type": "markdown",
   "metadata": {},
   "source": [
    "# Analyze Data\n",
    "What happens when a Sager-ism occurs? Do we have to copy and paste this dataframe (shudders) or even .to_csv? Hell no! We have a method to cross off any square in the board. Conviently it's the .X method. You'll need to pass it in a letter column (\"S\",\"A\",\"G\",\"E\",\"R\" for now- larger boards coming later), and a row number (0,1,2,3,4- becuase fuck 1 index langauges)."
   ]
  },
  {
   "cell_type": "code",
   "execution_count": 6,
   "metadata": {
    "collapsed": false
   },
   "outputs": [
    {
     "data": {
      "text/html": [
       "<div>\n",
       "<table border=\"1\" class=\"dataframe\">\n",
       "  <thead>\n",
       "    <tr style=\"text-align: right;\">\n",
       "      <th></th>\n",
       "      <th>S</th>\n",
       "      <th>A</th>\n",
       "      <th>G</th>\n",
       "      <th>E</th>\n",
       "      <th>R</th>\n",
       "    </tr>\n",
       "  </thead>\n",
       "  <tbody>\n",
       "    <tr>\n",
       "      <th>0</th>\n",
       "      <td>Julian asks a question and Kat pretends to pay...</td>\n",
       "      <td>Good Afternoon Business Analysts</td>\n",
       "      <td>Drinks Water</td>\n",
       "      <td>Takes forever to interpret SAS</td>\n",
       "      <td>Fac-tor</td>\n",
       "    </tr>\n",
       "    <tr>\n",
       "      <th>1</th>\n",
       "      <td>Asks if the quiz has closed</td>\n",
       "      <td>\"3 people have gone to the \"\"bathroom\"\"\"</td>\n",
       "      <td>Non-numeric Quiz code</td>\n",
       "      <td>*Moves the board up*</td>\n",
       "      <td>Pay attention for 5+ min straight</td>\n",
       "    </tr>\n",
       "    <tr>\n",
       "      <th>2</th>\n",
       "      <td>Suraj Asks a Question</td>\n",
       "      <td>*Running Man*</td>\n",
       "      <td>*Changes Pitch*</td>\n",
       "      <td>Fac-tor</td>\n",
       "      <td>*Takes off Jacket during class*</td>\n",
       "    </tr>\n",
       "    <tr>\n",
       "      <th>3</th>\n",
       "      <td>You send someone else the quiz code</td>\n",
       "      <td>E̶r̶-̶r̶o̶r̶s̶</td>\n",
       "      <td>*Uses Pointer*</td>\n",
       "      <td>Pay attention for 10+ min straight</td>\n",
       "      <td>*Runs around class*</td>\n",
       "    </tr>\n",
       "    <tr>\n",
       "      <th>4</th>\n",
       "      <td>Alec asks a question</td>\n",
       "      <td>Engages with Daniel</td>\n",
       "      <td>Catch someone watching a sports event</td>\n",
       "      <td>Awkward Silence</td>\n",
       "      <td>*Jumps*</td>\n",
       "    </tr>\n",
       "  </tbody>\n",
       "</table>\n",
       "</div>"
      ],
      "text/plain": [
       "                                                   S  \\\n",
       "0  Julian asks a question and Kat pretends to pay...   \n",
       "1                        Asks if the quiz has closed   \n",
       "2                              Suraj Asks a Question   \n",
       "3                You send someone else the quiz code   \n",
       "4                               Alec asks a question   \n",
       "\n",
       "                                          A  \\\n",
       "0          Good Afternoon Business Analysts   \n",
       "1  \"3 people have gone to the \"\"bathroom\"\"\"   \n",
       "2                             *Running Man*   \n",
       "3                            E̶r̶-̶r̶o̶r̶s̶   \n",
       "4                       Engages with Daniel   \n",
       "\n",
       "                                       G                                   E  \\\n",
       "0                           Drinks Water      Takes forever to interpret SAS   \n",
       "1                  Non-numeric Quiz code                *Moves the board up*   \n",
       "2                        *Changes Pitch*                             Fac-tor   \n",
       "3                         *Uses Pointer*  Pay attention for 10+ min straight   \n",
       "4  Catch someone watching a sports event                     Awkward Silence   \n",
       "\n",
       "                                   R  \n",
       "0                            Fac-tor  \n",
       "1  Pay attention for 5+ min straight  \n",
       "2    *Takes off Jacket during class*  \n",
       "3                *Runs around class*  \n",
       "4                            *Jumps*  "
      ]
     },
     "execution_count": 6,
     "metadata": {},
     "output_type": "execute_result"
    }
   ],
   "source": [
    "game1.X('A',3)"
   ]
  },
  {
   "cell_type": "markdown",
   "metadata": {},
   "source": [
    "As you can see Column A Row 3 now has strikethrough text rather than regular text. So you know you crossed it out! "
   ]
  },
  {
   "cell_type": "code",
   "execution_count": 7,
   "metadata": {
    "collapsed": false
   },
   "outputs": [
    {
     "data": {
      "text/html": [
       "<div>\n",
       "<table border=\"1\" class=\"dataframe\">\n",
       "  <thead>\n",
       "    <tr style=\"text-align: right;\">\n",
       "      <th></th>\n",
       "      <th>S</th>\n",
       "      <th>A</th>\n",
       "      <th>G</th>\n",
       "      <th>E</th>\n",
       "      <th>R</th>\n",
       "    </tr>\n",
       "  </thead>\n",
       "  <tbody>\n",
       "    <tr>\n",
       "      <th>0</th>\n",
       "      <td>Julian asks a question and Kat pretends to pay...</td>\n",
       "      <td>Good Afternoon Business Analysts</td>\n",
       "      <td>Drinks Water</td>\n",
       "      <td>Takes forever to interpret SAS</td>\n",
       "      <td>Fac-tor</td>\n",
       "    </tr>\n",
       "    <tr>\n",
       "      <th>1</th>\n",
       "      <td>Asks if the quiz has closed</td>\n",
       "      <td>\"3 people have gone to the \"\"bathroom\"\"\"</td>\n",
       "      <td>Non-numeric Quiz code</td>\n",
       "      <td>*Moves the board up*</td>\n",
       "      <td>Pay attention for 5+ min straight</td>\n",
       "    </tr>\n",
       "    <tr>\n",
       "      <th>2</th>\n",
       "      <td>Suraj Asks a Question</td>\n",
       "      <td>*Running Man*</td>\n",
       "      <td>*Changes Pitch*</td>\n",
       "      <td>Fac-tor</td>\n",
       "      <td>*Takes off Jacket during class*</td>\n",
       "    </tr>\n",
       "    <tr>\n",
       "      <th>3</th>\n",
       "      <td>You send someone else the quiz code</td>\n",
       "      <td>E̶r̶-̶r̶o̶r̶s̶</td>\n",
       "      <td>*Uses Pointer*</td>\n",
       "      <td>Pay attention for 10+ min straight</td>\n",
       "      <td>*Runs around class*</td>\n",
       "    </tr>\n",
       "    <tr>\n",
       "      <th>4</th>\n",
       "      <td>Alec asks a question</td>\n",
       "      <td>E̶n̶g̶a̶g̶e̶s̶ ̶w̶i̶t̶h̶ ̶D̶a̶n̶i̶e̶l̶</td>\n",
       "      <td>Catch someone watching a sports event</td>\n",
       "      <td>Awkward Silence</td>\n",
       "      <td>*Jumps*</td>\n",
       "    </tr>\n",
       "  </tbody>\n",
       "</table>\n",
       "</div>"
      ],
      "text/plain": [
       "                                                   S  \\\n",
       "0  Julian asks a question and Kat pretends to pay...   \n",
       "1                        Asks if the quiz has closed   \n",
       "2                              Suraj Asks a Question   \n",
       "3                You send someone else the quiz code   \n",
       "4                               Alec asks a question   \n",
       "\n",
       "                                          A  \\\n",
       "0          Good Afternoon Business Analysts   \n",
       "1  \"3 people have gone to the \"\"bathroom\"\"\"   \n",
       "2                             *Running Man*   \n",
       "3                            E̶r̶-̶r̶o̶r̶s̶   \n",
       "4    E̶n̶g̶a̶g̶e̶s̶ ̶w̶i̶t̶h̶ ̶D̶a̶n̶i̶e̶l̶   \n",
       "\n",
       "                                       G                                   E  \\\n",
       "0                           Drinks Water      Takes forever to interpret SAS   \n",
       "1                  Non-numeric Quiz code                *Moves the board up*   \n",
       "2                        *Changes Pitch*                             Fac-tor   \n",
       "3                         *Uses Pointer*  Pay attention for 10+ min straight   \n",
       "4  Catch someone watching a sports event                     Awkward Silence   \n",
       "\n",
       "                                   R  \n",
       "0                            Fac-tor  \n",
       "1  Pay attention for 5+ min straight  \n",
       "2    *Takes off Jacket during class*  \n",
       "3                *Runs around class*  \n",
       "4                            *Jumps*  "
      ]
     },
     "execution_count": 7,
     "metadata": {},
     "output_type": "execute_result"
    }
   ],
   "source": [
    "game1.X('A',4)"
   ]
  },
  {
   "cell_type": "markdown",
   "metadata": {},
   "source": [
    "Ooooopps- what happens if you accidentally crossed out something that didn't actually happen? Shit- that pause wasn't akward enough. Turns out Suraj was just stretching and not asking a question. What are you going to do?? Luckily there is a handily named \"un_X\" function that takes in the cell you want to un-cross out and returns the board without the strike through!"
   ]
  },
  {
   "cell_type": "code",
   "execution_count": 8,
   "metadata": {
    "collapsed": false
   },
   "outputs": [
    {
     "data": {
      "text/html": [
       "<div>\n",
       "<table border=\"1\" class=\"dataframe\">\n",
       "  <thead>\n",
       "    <tr style=\"text-align: right;\">\n",
       "      <th></th>\n",
       "      <th>S</th>\n",
       "      <th>A</th>\n",
       "      <th>G</th>\n",
       "      <th>E</th>\n",
       "      <th>R</th>\n",
       "    </tr>\n",
       "  </thead>\n",
       "  <tbody>\n",
       "    <tr>\n",
       "      <th>0</th>\n",
       "      <td>Julian asks a question and Kat pretends to pay...</td>\n",
       "      <td>Good Afternoon Business Analysts</td>\n",
       "      <td>Drinks Water</td>\n",
       "      <td>Takes forever to interpret SAS</td>\n",
       "      <td>Fac-tor</td>\n",
       "    </tr>\n",
       "    <tr>\n",
       "      <th>1</th>\n",
       "      <td>Asks if the quiz has closed</td>\n",
       "      <td>\"3 people have gone to the \"\"bathroom\"\"\"</td>\n",
       "      <td>Non-numeric Quiz code</td>\n",
       "      <td>*Moves the board up*</td>\n",
       "      <td>Pay attention for 5+ min straight</td>\n",
       "    </tr>\n",
       "    <tr>\n",
       "      <th>2</th>\n",
       "      <td>Suraj Asks a Question</td>\n",
       "      <td>*Running Man*</td>\n",
       "      <td>*Changes Pitch*</td>\n",
       "      <td>Fac-tor</td>\n",
       "      <td>*Takes off Jacket during class*</td>\n",
       "    </tr>\n",
       "    <tr>\n",
       "      <th>3</th>\n",
       "      <td>You send someone else the quiz code</td>\n",
       "      <td>E̶r̶-̶r̶o̶r̶s̶</td>\n",
       "      <td>*Uses Pointer*</td>\n",
       "      <td>Pay attention for 10+ min straight</td>\n",
       "      <td>*Runs around class*</td>\n",
       "    </tr>\n",
       "    <tr>\n",
       "      <th>4</th>\n",
       "      <td>Alec asks a question</td>\n",
       "      <td>Engages with Daniel</td>\n",
       "      <td>Catch someone watching a sports event</td>\n",
       "      <td>Awkward Silence</td>\n",
       "      <td>*Jumps*</td>\n",
       "    </tr>\n",
       "  </tbody>\n",
       "</table>\n",
       "</div>"
      ],
      "text/plain": [
       "                                                   S  \\\n",
       "0  Julian asks a question and Kat pretends to pay...   \n",
       "1                        Asks if the quiz has closed   \n",
       "2                              Suraj Asks a Question   \n",
       "3                You send someone else the quiz code   \n",
       "4                               Alec asks a question   \n",
       "\n",
       "                                          A  \\\n",
       "0          Good Afternoon Business Analysts   \n",
       "1  \"3 people have gone to the \"\"bathroom\"\"\"   \n",
       "2                             *Running Man*   \n",
       "3                            E̶r̶-̶r̶o̶r̶s̶   \n",
       "4                       Engages with Daniel   \n",
       "\n",
       "                                       G                                   E  \\\n",
       "0                           Drinks Water      Takes forever to interpret SAS   \n",
       "1                  Non-numeric Quiz code                *Moves the board up*   \n",
       "2                        *Changes Pitch*                             Fac-tor   \n",
       "3                         *Uses Pointer*  Pay attention for 10+ min straight   \n",
       "4  Catch someone watching a sports event                     Awkward Silence   \n",
       "\n",
       "                                   R  \n",
       "0                            Fac-tor  \n",
       "1  Pay attention for 5+ min straight  \n",
       "2    *Takes off Jacket during class*  \n",
       "3                *Runs around class*  \n",
       "4                            *Jumps*  "
      ]
     },
     "execution_count": 8,
     "metadata": {},
     "output_type": "execute_result"
    }
   ],
   "source": [
    "game1.un_X('A',4)"
   ]
  },
  {
   "cell_type": "markdown",
   "metadata": {},
   "source": [
    "# Get Results\n",
    "Somehow work \"Bingo\" into an audible level in the classroom. You can pull the Alexandria and pretend to pay attenion, ask a question you know the answer to and reply with \"bingo\" or you could be a dick and yell it out. Don't be a dick- make it fun.\n",
    "\n",
    "Coming soon- an automated \"Bingo\" that tells you when you've got a certain style of game bingo!"
   ]
  },
  {
   "cell_type": "code",
   "execution_count": 13,
   "metadata": {
    "collapsed": false
   },
   "outputs": [
    {
     "data": {
      "text/html": [
       "<img src=\"https://i.imgflip.com/k5kmn.jpg\"/>"
      ],
      "text/plain": [
       "<IPython.core.display.Image object>"
      ]
     },
     "execution_count": 13,
     "metadata": {},
     "output_type": "execute_result"
    }
   ],
   "source": [
    "IPython.display.Image(url='https://i.imgflip.com/k5kmn.jpg')"
   ]
  },
  {
   "cell_type": "code",
   "execution_count": null,
   "metadata": {
    "collapsed": true
   },
   "outputs": [],
   "source": []
  }
 ],
 "metadata": {
  "kernelspec": {
   "display_name": "Python 2",
   "language": "python",
   "name": "python2"
  },
  "language_info": {
   "codemirror_mode": {
    "name": "ipython",
    "version": 2
   },
   "file_extension": ".py",
   "mimetype": "text/x-python",
   "name": "python",
   "nbconvert_exporter": "python",
   "pygments_lexer": "ipython2",
   "version": "2.7.11"
  }
 },
 "nbformat": 4,
 "nbformat_minor": 0
}
