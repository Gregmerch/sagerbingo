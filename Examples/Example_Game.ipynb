{
 "cells": [
  {
   "cell_type": "markdown",
   "metadata": {},
   "source": [
    "# Sager Bingo! "
   ]
  },
  {
   "cell_type": "code",
   "execution_count": null,
   "metadata": {
    "collapsed": false
   },
   "outputs": [],
   "source": [
    "import sagerbingo\n",
    "import IPython.display\n",
    "sagerbingo.setup()"
   ]
  },
  {
   "cell_type": "markdown",
   "metadata": {},
   "source": [
    "# Get Data\n",
    "Here we read in an example of bingo lines (you can feed the board object any of list of phrases."
   ]
  },
  {
   "cell_type": "code",
   "execution_count": null,
   "metadata": {
    "collapsed": true
   },
   "outputs": [],
   "source": [
    "with open('bingo.csv') as f:\n",
    "    bingo_squares = f.read().splitlines()"
   ]
  },
  {
   "cell_type": "markdown",
   "metadata": {},
   "source": [
    "And we instantiate a board. Note at this point we can either access the board (it has been shuffled once) or shuffle a few more times for good measure. I'll show how to do both"
   ]
  },
  {
   "cell_type": "code",
   "execution_count": null,
   "metadata": {
    "collapsed": false
   },
   "outputs": [],
   "source": [
    "game1 = sagerbingo.Board(bingo_squares)\n",
    "sagerbingo.shuffle()"
   ]
  },
  {
   "cell_type": "markdown",
   "metadata": {},
   "source": [
    "Here we are accessing the baord once:"
   ]
  },
  {
   "cell_type": "code",
   "execution_count": null,
   "metadata": {
    "collapsed": false
   },
   "outputs": [],
   "source": [
    "game1.board"
   ]
  },
  {
   "cell_type": "markdown",
   "metadata": {},
   "source": [
    "And now we shuffle it again (repeat this cell as many times as you like."
   ]
  },
  {
   "cell_type": "code",
   "execution_count": null,
   "metadata": {
    "collapsed": false
   },
   "outputs": [],
   "source": [
    "game1.shuffle()"
   ]
  },
  {
   "cell_type": "markdown",
   "metadata": {},
   "source": [
    "# Analyze Data\n",
    "What happens when a Sager-ism occurs? Do we have to copy and paste this dataframe (shudders) or even .to_csv? Hell no! We have a method to cross off any square in the board. Conviently it's the .X method. You'll need to pass it in a letter column (\"S\",\"A\",\"G\",\"E\",\"R\" for now- larger boards coming later), and a row number (0,1,2,3,4- becuase fuck 1 index langauges)."
   ]
  },
  {
   "cell_type": "code",
   "execution_count": null,
   "metadata": {
    "collapsed": false
   },
   "outputs": [],
   "source": [
    "game1.X('A',3)"
   ]
  },
  {
   "cell_type": "markdown",
   "metadata": {},
   "source": [
    "As you can see Column A Row 3 now has strikethrough text rather than regular text. So you know you crossed it out! "
   ]
  },
  {
   "cell_type": "code",
   "execution_count": null,
   "metadata": {
    "collapsed": false
   },
   "outputs": [],
   "source": [
    "game1.X('A',4)"
   ]
  },
  {
   "cell_type": "markdown",
   "metadata": {},
   "source": [
    "Ooooopps- what happens if you accidentally crossed out something that didn't actually happen? Shit- that pause wasn't akward enough. Turns out Suraj was just stretching and not asking a question. What are you going to do?? Luckily there is a handily named \"un_X\" function that takes in the cell you want to un-cross out and returns the board without the strike through!"
   ]
  },
  {
   "cell_type": "code",
   "execution_count": null,
   "metadata": {
    "collapsed": false
   },
   "outputs": [],
   "source": [
    "game1.un_X('A',4)"
   ]
  },
  {
   "cell_type": "markdown",
   "metadata": {},
   "source": [
    "# Get Results\n",
    "Somehow work \"Bingo\" into an audible level in the classroom. You can pull the Alexandria and pretend to pay attenion, ask a question you know the answer to and reply with \"bingo\" or you could be a dick and yell it out. Don't be a dick- make it fun.\n",
    "\n",
    "Coming soon- an automated \"Bingo\" that tells you when you've got a certain style of game bingo!"
   ]
  },
  {
   "cell_type": "code",
   "execution_count": null,
   "metadata": {
    "collapsed": false
   },
   "outputs": [],
   "source": [
    "IPython.display.Image(url='https://i.imgflip.com/k5kmn.jpg')"
   ]
  }
 ],
 "metadata": {
  "kernelspec": {
   "display_name": "Python 2",
   "language": "python",
   "name": "python2"
  },
  "language_info": {
   "codemirror_mode": {
    "name": "ipython",
    "version": 2
   },
   "file_extension": ".py",
   "mimetype": "text/x-python",
   "name": "python",
   "nbconvert_exporter": "python",
   "pygments_lexer": "ipython2",
   "version": "2.7.11"
  }
 },
 "nbformat": 4,
 "nbformat_minor": 0
}
